{
 "cells": [
  {
   "cell_type": "code",
   "execution_count": 1,
   "id": "2b73faeb",
   "metadata": {
    "scrolled": false
   },
   "outputs": [
    {
     "name": "stdout",
     "output_type": "stream",
     "text": [
      "Collecting python-docxNote: you may need to restart the kernel to use updated packages.\n",
      "  Downloading python-docx-0.8.11.tar.gz (5.6 MB)\n",
      "Requirement already satisfied: lxml>=2.3.2 in c:\\users\\aakash\\anaconda3\\lib\\site-packages (from python-docx) (4.6.3)\n",
      "Building wheels for collected packages: python-docx\n",
      "  Building wheel for python-docx (setup.py): started\n",
      "  Building wheel for python-docx (setup.py): finished with status 'done'\n",
      "  Created wheel for python-docx: filename=python_docx-0.8.11-py3-none-any.whl size=184508 sha256=600e6495e7b25c4bda28308d66c93559338ecf016dfdea97aac3cff3612b8b26\n",
      "  Stored in directory: c:\\users\\aakash\\appdata\\local\\pip\\cache\\wheels\\83\\8b\\7c\\09ae60c42c7ba4ed2dddaf2b8b9186cb105255856d6ed3dba5\n",
      "Successfully built python-docx\n",
      "Installing collected packages: python-docx\n",
      "Successfully installed python-docx-0.8.11\n",
      "\n"
     ]
    }
   ],
   "source": [
    "pip install python-docx"
   ]
  },
  {
   "cell_type": "code",
   "execution_count": null,
   "id": "53d9e283",
   "metadata": {},
   "outputs": [],
   "source": [
    "# Over here im trying to make a program which can\n",
    "# do the tables for me as i dont like to remember it"
   ]
  },
  {
   "cell_type": "code",
   "execution_count": 3,
   "id": "65034ac1",
   "metadata": {},
   "outputs": [
    {
     "name": "stdout",
     "output_type": "stream",
     "text": [
      "Which Table = 17\n",
      "From = 1\n",
      "Upto = 21\n",
      "Do you want to continue (yes/no)? n\n",
      "Done With The Table. The table has been saved at: F:\\Programming\\Saves\\multiplication_table.docx\n"
     ]
    }
   ],
   "source": [
    "# This Code Will save in Word Doc\n",
    "from docx import Document\n",
    "\n",
    "save_location = r\"F:\\Programming\\Saves\\multiplication_table.docx\"\n",
    "\n",
    "# Create a new Word document\n",
    "doc = Document()\n",
    "\n",
    "while True:\n",
    "    c = int(input(\"Which Table = \"))\n",
    "    a = int(input(\"From = \"))\n",
    "    b = int(input(\"Upto = \"))\n",
    "\n",
    "    # Create a table in the Word document\n",
    "    table = doc.add_table(rows=1, cols=3)\n",
    "    table.style = 'Table Grid'\n",
    "\n",
    "    # Define the header row\n",
    "    table.rows[0].cells[0].text = \"Number\"\n",
    "    table.rows[0].cells[1].text = \"Multiplier\"\n",
    "    table.rows[0].cells[2].text = \"Result\"\n",
    "\n",
    "    for d in range(a, b):\n",
    "        # Add data to the table\n",
    "        row = table.add_row().cells\n",
    "        row[0].text = str(c)\n",
    "        row[1].text = str(d)\n",
    "        row[2].text = str(c * d)\n",
    "\n",
    "    continue_input = input(\"Do you want to continue (yes/no)? \").strip().lower()\n",
    "    if continue_input != \"yes\":\n",
    "        break\n",
    "\n",
    "# Save the Word document to the specified location\n",
    "doc.save(save_location)\n",
    "\n",
    "print(f\"Done With The Table. The table has been saved at: {save_location}\")\n"
   ]
  },
  {
   "cell_type": "code",
   "execution_count": 4,
   "id": "d8bb71d3",
   "metadata": {},
   "outputs": [
    {
     "name": "stdout",
     "output_type": "stream",
     "text": [
      "Which Table = 18\n",
      "From = 1\n",
      "Upto = 31\n",
      "Do you want to continue (yes/no)? N\n",
      "Done With The Table. The table has been saved at: F:\\Programming\\Saves\\multiplication_table.txt\n"
     ]
    }
   ],
   "source": [
    "# This Code Will save in Text Format\n",
    "save_location = r\"F:\\Programming\\Saves\\multiplication_table.txt\"\n",
    "\n",
    "while True:\n",
    "    c = int(input(\"Which Table = \"))\n",
    "    a = int(input(\"From = \"))\n",
    "    b = int(input(\"Upto = \"))\n",
    "\n",
    "    with open(save_location, \"w\") as txt_file:\n",
    "        txt_file.write(f\"Multiplication Table for {c}:\\n\")\n",
    "        for d in range(a, b):\n",
    "            txt_file.write(f\"{c} x {d} = {c * d}\\n\")\n",
    "\n",
    "    continue_input = input(\"Do you want to continue (yes/no)? \").strip().lower()\n",
    "    if continue_input != \"yes\":\n",
    "        break\n",
    "\n",
    "print(f\"Done With The Table. The table has been saved at: {save_location}\")\n"
   ]
  },
  {
   "cell_type": "code",
   "execution_count": null,
   "id": "566f0b9f",
   "metadata": {},
   "outputs": [],
   "source": [
    "# This Code Will Not Save Any Table\n",
    "\n",
    "while True:\n",
    "    c = int(input(\"Which Table = \"))\n",
    "    a = int(input(\"From = \"))\n",
    "    b = int(input(\"Upto = \"))\n",
    "\n",
    "    for d in range(a, b):\n",
    "        print(c, \"x\", d, \"=\", c * d)\n",
    "\n",
    "    continue_input = input(\"Do you want to continue (yes/no)? \").strip().lower()\n",
    "    if continue_input != \"yes\":\n",
    "        break\n",
    "\n",
    "print(\"Done With The Table\")\n"
   ]
  }
 ],
 "metadata": {
  "kernelspec": {
   "display_name": "Python 3 (ipykernel)",
   "language": "python",
   "name": "python3"
  },
  "language_info": {
   "codemirror_mode": {
    "name": "ipython",
    "version": 3
   },
   "file_extension": ".py",
   "mimetype": "text/x-python",
   "name": "python",
   "nbconvert_exporter": "python",
   "pygments_lexer": "ipython3",
   "version": "3.9.7"
  }
 },
 "nbformat": 4,
 "nbformat_minor": 5
}
